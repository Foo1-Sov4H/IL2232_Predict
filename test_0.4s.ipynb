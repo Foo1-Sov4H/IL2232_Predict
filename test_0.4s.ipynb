{
 "cells": [
  {
   "cell_type": "code",
   "execution_count": 74,
   "id": "fba3678e",
   "metadata": {},
   "outputs": [],
   "source": [
    "import pandas as pd\n",
    "from hmmlearn import hmm\n",
    "import numpy as np\n",
    "from collections import Counter\n"
   ]
  },
  {
   "cell_type": "code",
   "execution_count": 75,
   "id": "8b8ae0b8",
   "metadata": {},
   "outputs": [
    {
     "name": "stdout",
     "output_type": "stream",
     "text": [
      "[[ 1.6275e+02  9.3900e+00 -3.2040e+01  0.0000e+00  2.0000e+00]\n",
      " [ 1.6158e+02  9.3900e+00 -3.2060e+01  0.0000e+00  2.0000e+00]\n",
      " [ 1.6036e+02  9.3900e+00 -3.2070e+01  0.0000e+00  2.0000e+00]\n",
      " ...\n",
      " [ 3.1873e+02  9.3600e+00 -2.9460e+01  2.4000e-01  2.0000e+00]\n",
      " [ 3.1754e+02  9.3700e+00 -2.9450e+01  2.5000e-01  2.0000e+00]\n",
      " [ 3.1636e+02  9.3800e+00 -2.9440e+01  2.5000e-01  2.0000e+00]]\n",
      "93546\n"
     ]
    }
   ],
   "source": [
    "df = pd.read_csv('training_dataset.csv')\n",
    "\n",
    "grouped_data = df.groupby(['id', df.groupby('id')['laneId'].transform('first')])\n",
    "\n",
    "data_dict = {}\n",
    "\n",
    "for group_name, group_data in grouped_data:\n",
    "    data_dict[group_name] = group_data\n",
    "\n",
    "selected_groups2 = grouped_data.filter(lambda x: x['laneId'].iloc[0] == 2)\n",
    "selected_groups3 = grouped_data.filter(lambda x: x['laneId'].iloc[0] == 3)\n",
    "selected_groups5 = grouped_data.filter(lambda x: x['laneId'].iloc[0] == 5)\n",
    "selected_groups6 = grouped_data.filter(lambda x: x['laneId'].iloc[0] == 6)\n",
    "\n",
    "train_data2 = selected_groups2[['x', 'y', 'xVelocity', 'yVelocity', 'state']].values\n",
    "train_data3 = selected_groups3[['x', 'y', 'xVelocity', 'yVelocity', 'state']].values\n",
    "train_data5 = selected_groups5[['x', 'y', 'xVelocity', 'yVelocity', 'state']].values\n",
    "train_data6 = selected_groups6[['x', 'y', 'xVelocity', 'yVelocity', 'state']].values\n",
    "\n",
    "print(train_data2)\n",
    "num_rows = len(train_data2)\n",
    "\n",
    "print(num_rows)\n"
   ]
  },
  {
   "cell_type": "code",
   "execution_count": 76,
   "id": "79b52682",
   "metadata": {},
   "outputs": [],
   "source": [
    "df = pd.read_csv('train_dataset2c.csv')\n",
    "\n",
    "train_data2c = df[['x', 'y', 'xVelocity', 'yVelocity', 'state']].values\n",
    "\n",
    "df = pd.read_csv('train_dataset6c.csv')\n",
    "\n",
    "train_data6c = df[['x', 'y', 'xVelocity', 'yVelocity', 'state']].values\n"
   ]
  },
  {
   "cell_type": "code",
   "execution_count": 113,
   "id": "4efdc2aa",
   "metadata": {},
   "outputs": [
    {
     "name": "stdout",
     "output_type": "stream",
     "text": [
      "Training Finish!\n"
     ]
    }
   ],
   "source": [
    "model2c = hmm.GaussianHMM(n_components=4, covariance_type=\"full\", n_iter=10000)\n",
    "\n",
    "model2c.fit(train_data2c)\n",
    "\n",
    "print(\"Training Finish!\")"
   ]
  },
  {
   "cell_type": "code",
   "execution_count": 114,
   "id": "fbb20f10",
   "metadata": {},
   "outputs": [
    {
     "name": "stdout",
     "output_type": "stream",
     "text": [
      "[[ 2.62695385e+02  9.73051282e+00 -3.62453846e+01  3.46923077e-01\n",
      "   2.00000000e+00]\n",
      " [ 4.88581579e+01  1.32206579e+01 -3.64794737e+01  2.50657895e-01\n",
      "   4.00000000e+00]\n",
      " [ 1.55626429e+02  1.16517143e+01 -3.65504286e+01  7.62857143e-01\n",
      "   3.00000000e+00]\n",
      " [ 2.62701842e+02  9.72447368e+00 -3.62463158e+01  3.46842105e-01\n",
      "   2.00000000e+00]]\n"
     ]
    }
   ],
   "source": [
    "print(model2c.means_)"
   ]
  },
  {
   "cell_type": "code",
   "execution_count": 137,
   "id": "40f3185e",
   "metadata": {
    "scrolled": false
   },
   "outputs": [
    {
     "name": "stdout",
     "output_type": "stream",
     "text": [
      "Right Num: [9841, 9796, 9751, 9706, 9661, 9619, 9576, 9536, 9494, 9451] Error Num: [159, 204, 249, 294, 339, 381, 424, 464, 506, 549]\n"
     ]
    }
   ],
   "source": [
    "right = [0, 0, 0, 0, 0, 0, 0, 0, 0, 0]\n",
    "error = [0, 0, 0, 0, 0, 0, 0, 0, 0, 0]\n",
    "for i in range(10000):\n",
    "    # 'x', 'y', 'xVelocity', 'yVelocity', 'state'\n",
    "    current_data = [train_data2[i+2]]\n",
    "    history_data1 = [train_data2[i]]\n",
    "    history_data2 = [train_data2[i+1]]\n",
    "    #print(history_data1,history_data2,current_data,)\n",
    "    for j in range(10):        \n",
    "        predicted_state = model2c.predict(current_data)\n",
    "        #print('predict state is:',predicted_state)\n",
    "        posterior_probs = model2c.predict_proba(current_data)\n",
    "        most_probable_state = np.argmax(posterior_probs)\n",
    "        predicted_observation = model2c.means_[most_probable_state]\n",
    "        if (predicted_state == [3]):\n",
    "            predict_result = current_data[0][4] \n",
    "        else:\n",
    "            predict_result = predicted_observation[4]\n",
    "        if(predict_result==int(train_data2[i+j+3][4])):\n",
    "            right[j] = right[j] + 1\n",
    "        else:\n",
    "            error[j] = error[j] + 1\n",
    "        \n",
    "        next_vx = current_data[0][2] + ((current_data[0][2] - history_data2[0][2]) - (history_data2[0][2] - history_data1[0][2]))\n",
    "        next_vy = current_data[0][3] + ((current_data[0][3] - history_data2[0][3]) - (history_data2[0][3] - history_data1[0][3]))\n",
    "        next_x = 0.04 * 0.5 * (next_vx + current_data[0][2]) + current_data[0][0]\n",
    "        next_y = 0.04 * 0.5 * (next_vy + current_data[0][3]) + current_data[0][1]\n",
    "\n",
    "        current_data = [[next_x, next_y, next_vx, next_vy, predict_result]]\n",
    "        history_data1 = history_data2\n",
    "        history_data2 = current_data\n",
    "        #print('Predict result is: ', current_data)\n",
    "        #print('Real result is:', train_data2[i+j+3])\n",
    "\n",
    "        \n",
    "print('Right Num:', right, 'Error Num:', error)"
   ]
  },
  {
   "cell_type": "code",
   "execution_count": 138,
   "id": "8f45b171",
   "metadata": {},
   "outputs": [
    {
     "name": "stdout",
     "output_type": "stream",
     "text": [
      "Right Num: [8906, 8880, 8856, 8836, 8816, 8795, 8776, 8755, 8736, 8714] Error Num: [1094, 1120, 1144, 1164, 1184, 1205, 1224, 1245, 1264, 1286]\n"
     ]
    }
   ],
   "source": [
    "right = [0, 0, 0, 0, 0, 0, 0, 0, 0, 0]\n",
    "error = [0, 0, 0, 0, 0, 0, 0, 0, 0, 0]\n",
    "for i in range(10000):\n",
    "    # 'x', 'y', 'xVelocity', 'yVelocity', 'state'\n",
    "    current_data = [train_data3[i+2]]\n",
    "    history_data1 = [train_data3[i]]\n",
    "    history_data2 = [train_data3[i+1]]\n",
    "    #print(history_data1,history_data2,current_data,)\n",
    "    for j in range(10):        \n",
    "        predicted_state = model2c.predict(current_data)\n",
    "        #print('predict state is:',predicted_state)\n",
    "        posterior_probs = model2c.predict_proba(current_data)\n",
    "        most_probable_state = np.argmax(posterior_probs)\n",
    "        predicted_observation = model2c.means_[most_probable_state]\n",
    "        if (predicted_state == [3]):\n",
    "            predict_result = current_data[0][4] \n",
    "        else:\n",
    "            predict_result = predicted_observation[4]\n",
    "        if(predict_result==int(train_data3[i+j+3][4])):\n",
    "            right[j] = right[j] + 1\n",
    "        else:\n",
    "            error[j] = error[j] + 1\n",
    "        \n",
    "        next_vx = current_data[0][2] + ((current_data[0][2] - history_data2[0][2]) - (history_data2[0][2] - history_data1[0][2]))\n",
    "        next_vy = current_data[0][3] + ((current_data[0][3] - history_data2[0][3]) - (history_data2[0][3] - history_data1[0][3]))\n",
    "        next_x = 0.04 * 0.5 * (next_vx + current_data[0][2]) + current_data[0][0]\n",
    "        next_y = 0.04 * 0.5 * (next_vy + current_data[0][3]) + current_data[0][1]\n",
    "\n",
    "        current_data = [[next_x, next_y, next_vx, next_vy, predict_result]]\n",
    "        history_data1 = history_data2\n",
    "        history_data2 = current_data\n",
    "        #print('Predict result is: ', current_data)\n",
    "        #print('Real result is:', train_data3[i+j+3])\n",
    "\n",
    "        \n",
    "print('Right Num:', right, 'Error Num:', error)"
   ]
  },
  {
   "cell_type": "code",
   "execution_count": 130,
   "id": "b723c57a",
   "metadata": {
    "scrolled": true
   },
   "outputs": [
    {
     "name": "stdout",
     "output_type": "stream",
     "text": [
      "[[ 1.8150e+02  2.5490e+01  2.5070e+01  9.0000e-02  7.0000e+00]\n",
      " [ 1.8239e+02  2.5490e+01  2.5060e+01  9.0000e-02  7.0000e+00]\n",
      " [ 1.8333e+02  2.5490e+01  2.5050e+01  8.0000e-02  7.0000e+00]\n",
      " ...\n",
      " [ 4.1111e+02  2.1880e+01  2.6840e+01 -1.2000e-01  5.0000e+00]\n",
      " [ 4.1219e+02  2.1870e+01  2.6870e+01 -1.0000e-01  5.0000e+00]\n",
      " [ 4.1326e+02  2.1870e+01  2.6900e+01 -9.0000e-02  5.0000e+00]]\n",
      "Training Finish!\n",
      "[[ 2.85718305e+02  2.53101094e+01  2.39499794e+01 -1.55104491e-01\n",
      "   7.00000000e+00]\n",
      " [ 2.18809839e+02  2.54403511e+01  2.46173407e+01 -4.22173880e-02\n",
      "   7.00000000e+00]\n",
      " [ 3.87899592e+02  2.22387755e+01  2.61804082e+01 -5.54897959e-01\n",
      "   5.00000000e+00]\n",
      " [ 3.38506458e+02  2.40229167e+01  2.47018750e+01 -1.05020833e+00\n",
      "   6.00000000e+00]]\n"
     ]
    }
   ],
   "source": [
    "df = pd.read_csv('train_dataset6c.csv')\n",
    "\n",
    "train_data6c = df[['x', 'y', 'xVelocity', 'yVelocity', 'state']].values\n",
    "print(train_data6c)\n",
    "model6c = hmm.GaussianHMM(n_components=4, covariance_type=\"full\", n_iter=10000)\n",
    "\n",
    "model6c.fit(train_data6c)\n",
    "\n",
    "print(\"Training Finish!\")\n",
    "print(model6c.means_)\n"
   ]
  },
  {
   "cell_type": "code",
   "execution_count": 139,
   "id": "af25cedf",
   "metadata": {},
   "outputs": [
    {
     "name": "stdout",
     "output_type": "stream",
     "text": [
      "Right Num: [9936, 9882, 9834, 9786, 9734, 9680, 9629, 9584, 9535, 9486] Error Num: [64, 118, 166, 214, 266, 320, 371, 416, 465, 514]\n"
     ]
    }
   ],
   "source": [
    "right = [0, 0, 0, 0, 0, 0, 0, 0, 0, 0]\n",
    "error = [0, 0, 0, 0, 0, 0, 0, 0, 0, 0]\n",
    "for i in range(10000):\n",
    "    # 'x', 'y', 'xVelocity', 'yVelocity', 'state'\n",
    "    current_data = [train_data6[i+2]]\n",
    "    history_data1 = [train_data6[i]]\n",
    "    history_data2 = [train_data6[i+1]]\n",
    "    for j in range(10):        \n",
    "        predicted_state = model6c.predict(current_data)\n",
    "        #print('predict state is:',predicted_state)\n",
    "        posterior_probs = model6c.predict_proba(current_data)\n",
    "        most_probable_state = np.argmax(posterior_probs)\n",
    "        predicted_observation = model6c.means_[most_probable_state]\n",
    "        if (predicted_state == [1]):\n",
    "            predict_result = current_data[0][4] \n",
    "        else:\n",
    "            predict_result = predicted_observation[4]\n",
    "        if(predict_result==int(train_data6[i+j+3][4])):\n",
    "            right[j] = right[j] + 1\n",
    "        else:\n",
    "            error[j] = error[j] + 1\n",
    "        \n",
    "        next_vx = current_data[0][2] + ((current_data[0][2] - history_data2[0][2]) - (history_data2[0][2] - history_data1[0][2]))\n",
    "        next_vy = current_data[0][3] + ((current_data[0][3] - history_data2[0][3]) - (history_data2[0][3] - history_data1[0][3]))\n",
    "        next_x = 0.04 * 0.5 * (next_vx + current_data[0][2]) + current_data[0][0]\n",
    "        next_y = 0.04 * 0.5 * (next_vy + current_data[0][3]) + current_data[0][1]\n",
    "\n",
    "        current_data = [[next_x, next_y, next_vx, next_vy, predict_result]]\n",
    "        history_data1 = history_data2\n",
    "        history_data2 = current_data\n",
    "        #print('Predict result is: ', current_data)\n",
    "        #print('Real result is:', train_data6[i+j+3])\n",
    "\n",
    "        \n",
    "print('Right Num:', right, 'Error Num:', error)"
   ]
  },
  {
   "cell_type": "code",
   "execution_count": 140,
   "id": "ced6ee7c",
   "metadata": {},
   "outputs": [
    {
     "name": "stdout",
     "output_type": "stream",
     "text": [
      "Right Num: [9964, 9928, 9892, 9856, 9820, 9784, 9748, 9713, 9678, 9643] Error Num: [36, 72, 108, 144, 180, 216, 252, 287, 322, 357]\n"
     ]
    }
   ],
   "source": [
    "right = [0, 0, 0, 0, 0, 0, 0, 0, 0, 0]\n",
    "error = [0, 0, 0, 0, 0, 0, 0, 0, 0, 0]\n",
    "for i in range(10000):\n",
    "    # 'x', 'y', 'xVelocity', 'yVelocity', 'state'\n",
    "    current_data = [train_data5[i+2]]\n",
    "    history_data1 = [train_data5[i]]\n",
    "    history_data2 = [train_data5[i+1]]\n",
    "    #print(history_data1,history_data2,current_data,)\n",
    "    for j in range(10):        \n",
    "        predicted_state = model6c.predict(current_data)\n",
    "        #print('predict state is:',predicted_state)\n",
    "        posterior_probs = model6c.predict_proba(current_data)\n",
    "        most_probable_state = np.argmax(posterior_probs)\n",
    "        predicted_observation = model6c.means_[most_probable_state]\n",
    "        if (predicted_state == [1]):\n",
    "            predict_result = current_data[0][4] \n",
    "        else:\n",
    "            predict_result = predicted_observation[4]\n",
    "        if(predict_result==int(train_data5[i+j+3][4])):\n",
    "            right[j] = right[j] + 1\n",
    "        else:\n",
    "            error[j] = error[j] + 1\n",
    "        \n",
    "        next_vx = current_data[0][2] + ((current_data[0][2] - history_data2[0][2]) - (history_data2[0][2] - history_data1[0][2]))\n",
    "        next_vy = current_data[0][3] + ((current_data[0][3] - history_data2[0][3]) - (history_data2[0][3] - history_data1[0][3]))\n",
    "        next_x = 0.04 * 0.5 * (next_vx + current_data[0][2]) + current_data[0][0]\n",
    "        next_y = 0.04 * 0.5 * (next_vy + current_data[0][3]) + current_data[0][1]\n",
    "\n",
    "        current_data = [[next_x, next_y, next_vx, next_vy, predict_result]]\n",
    "        history_data1 = history_data2\n",
    "        history_data2 = current_data\n",
    "        #print('Predict result is: ', current_data)\n",
    "        #print('Real result is:', train_data5[i+j+3])\n",
    "\n",
    "        \n",
    "print('Right Num:', right, 'Error Num:', error)"
   ]
  },
  {
   "cell_type": "code",
   "execution_count": null,
   "id": "b69ac3f0",
   "metadata": {},
   "outputs": [],
   "source": []
  },
  {
   "cell_type": "code",
   "execution_count": null,
   "id": "ae33a743",
   "metadata": {},
   "outputs": [],
   "source": []
  }
 ],
 "metadata": {
  "kernelspec": {
   "display_name": "Python 3 (ipykernel)",
   "language": "python",
   "name": "python3"
  },
  "language_info": {
   "codemirror_mode": {
    "name": "ipython",
    "version": 3
   },
   "file_extension": ".py",
   "mimetype": "text/x-python",
   "name": "python",
   "nbconvert_exporter": "python",
   "pygments_lexer": "ipython3",
   "version": "3.9.13"
  }
 },
 "nbformat": 4,
 "nbformat_minor": 5
}
